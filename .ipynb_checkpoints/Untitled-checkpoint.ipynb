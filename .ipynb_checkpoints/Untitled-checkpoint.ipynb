{
 "cells": [
  {
   "cell_type": "markdown",
   "id": "90064aa2",
   "metadata": {},
   "source": [
    "# 上海疫情病例散点图\n",
    "\n",
    "**使用类说明**  \n",
    "使用了pyecharts的geo类  \n",
    "官方文档参考[pyecharts document](https://pyecharts.org/#/zh-cn/geography_charts)\n",
    "官方文档geo类的demo[Geo - Geo_base](https://gallery.pyecharts.org/#/Geo/geo_base)\n",
    "\n",
    "**数据说明**  \n",
    "dataset：含完整的数据信息，但运行到第四千多条数据时，会报错显示“坐标不存在”，该bug待完善  \n",
    "test_dataset：含有1000条数据，可运行查看散点图效果\n",
    "\n",
    "**现在有未知原因bug：NonexistentCoordinatesException: 当前地点: ('嘉定区11号线城北路站D地块工地', 0.5) 坐标不存在, 错误原因: cannot unpack non-iterable NoneType object  \n",
    "调不动了下次继续**"
   ]
  },
  {
   "cell_type": "code",
   "execution_count": 5,
   "id": "9d7af4ab",
   "metadata": {},
   "outputs": [],
   "source": [
    "# 读取数据\n",
    "\n",
    "import pandas as pd\n",
    "\n",
    "\n",
    "test_dataset = pd.read_csv('./CaseInfo/geo_test.csv')  # 测试数据，含100条信息\n",
    "dataset = pd.read_csv('./CaseInfo/geo_region_info.csv')\n"
   ]
  },
  {
   "cell_type": "code",
   "execution_count": 12,
   "id": "06333a68",
   "metadata": {},
   "outputs": [
    {
     "ename": "NonexistentCoordinatesException",
     "evalue": "当前地点: ('嘉定区11号线城北路站D地块工地', 0.5) 坐标不存在, 错误原因: cannot unpack non-iterable NoneType object",
     "output_type": "error",
     "traceback": [
      "\u001b[1;31m---------------------------------------------------------------------------\u001b[0m",
      "\u001b[1;31mTypeError\u001b[0m                                 Traceback (most recent call last)",
      "\u001b[1;32mD:\\Softwares\\Anaconda\\lib\\site-packages\\pyecharts\\charts\\basic_charts\\geo.py\u001b[0m in \u001b[0;36m_feed_data\u001b[1;34m(self, data_pair, type_)\u001b[0m\n\u001b[0;32m    174\u001b[0m                 \u001b[1;32melse\u001b[0m\u001b[1;33m:\u001b[0m\u001b[1;33m\u001b[0m\u001b[1;33m\u001b[0m\u001b[0m\n\u001b[1;32m--> 175\u001b[1;33m                     \u001b[0mlng\u001b[0m\u001b[1;33m,\u001b[0m \u001b[0mlat\u001b[0m \u001b[1;33m=\u001b[0m \u001b[0mself\u001b[0m\u001b[1;33m.\u001b[0m\u001b[0mget_coordinate\u001b[0m\u001b[1;33m(\u001b[0m\u001b[0mn\u001b[0m\u001b[1;33m)\u001b[0m\u001b[1;33m\u001b[0m\u001b[1;33m\u001b[0m\u001b[0m\n\u001b[0m\u001b[0;32m    176\u001b[0m                     \u001b[0mresult\u001b[0m\u001b[1;33m.\u001b[0m\u001b[0mappend\u001b[0m\u001b[1;33m(\u001b[0m\u001b[1;33m{\u001b[0m\u001b[1;34m\"name\"\u001b[0m\u001b[1;33m:\u001b[0m \u001b[0mn\u001b[0m\u001b[1;33m,\u001b[0m \u001b[1;34m\"value\"\u001b[0m\u001b[1;33m:\u001b[0m \u001b[1;33m[\u001b[0m\u001b[0mlng\u001b[0m\u001b[1;33m,\u001b[0m \u001b[0mlat\u001b[0m\u001b[1;33m,\u001b[0m \u001b[0mv\u001b[0m\u001b[1;33m]\u001b[0m\u001b[1;33m}\u001b[0m\u001b[1;33m)\u001b[0m\u001b[1;33m\u001b[0m\u001b[1;33m\u001b[0m\u001b[0m\n",
      "\u001b[1;31mTypeError\u001b[0m: cannot unpack non-iterable NoneType object",
      "\nDuring handling of the above exception, another exception occurred:\n",
      "\u001b[1;31mNonexistentCoordinatesException\u001b[0m           Traceback (most recent call last)",
      "\u001b[1;32mC:\\Users\\ADMINI~1\\AppData\\Local\\Temp/ipykernel_9096/834242443.py\u001b[0m in \u001b[0;36m<module>\u001b[1;34m\u001b[0m\n\u001b[0;32m      7\u001b[0m \u001b[0mgeo\u001b[0m \u001b[1;33m=\u001b[0m \u001b[0mGeo\u001b[0m\u001b[1;33m(\u001b[0m\u001b[1;33m)\u001b[0m\u001b[1;33m\u001b[0m\u001b[1;33m\u001b[0m\u001b[0m\n\u001b[0;32m      8\u001b[0m \u001b[0mgeo\u001b[0m\u001b[1;33m.\u001b[0m\u001b[0madd_schema\u001b[0m\u001b[1;33m(\u001b[0m\u001b[0mmaptype\u001b[0m\u001b[1;33m=\u001b[0m\u001b[1;34m\"上海\"\u001b[0m\u001b[1;33m)\u001b[0m  \u001b[1;31m# 使用上海地图\u001b[0m\u001b[1;33m\u001b[0m\u001b[1;33m\u001b[0m\u001b[0m\n\u001b[1;32m----> 9\u001b[1;33m \u001b[0mgeo\u001b[0m\u001b[1;33m.\u001b[0m\u001b[0madd\u001b[0m\u001b[1;33m(\u001b[0m\u001b[1;34m\"病例\"\u001b[0m\u001b[1;33m,\u001b[0m \u001b[1;33m[\u001b[0m\u001b[0mlist\u001b[0m\u001b[1;33m(\u001b[0m\u001b[0mz\u001b[0m\u001b[1;33m)\u001b[0m \u001b[1;32mfor\u001b[0m \u001b[0mz\u001b[0m \u001b[1;32min\u001b[0m \u001b[0mzip\u001b[0m\u001b[1;33m(\u001b[0m\u001b[0mtest_dataset\u001b[0m\u001b[1;33m[\u001b[0m\u001b[1;34m\"address\"\u001b[0m\u001b[1;33m]\u001b[0m\u001b[1;33m,\u001b[0m\u001b[0mtest_dataset\u001b[0m\u001b[1;33m[\u001b[0m\u001b[1;34m\"confidence\"\u001b[0m\u001b[1;33m]\u001b[0m\u001b[1;33m)\u001b[0m\u001b[1;33m]\u001b[0m\u001b[1;33m)\u001b[0m  \u001b[1;31m# 暂且将数据点的value用数据集里的confidence代替；只影响点的颜色\u001b[0m\u001b[1;33m\u001b[0m\u001b[1;33m\u001b[0m\u001b[0m\n\u001b[0m\u001b[0;32m     10\u001b[0m \u001b[0mgeo\u001b[0m\u001b[1;33m.\u001b[0m\u001b[0mset_series_opts\u001b[0m\u001b[1;33m(\u001b[0m\u001b[0mlabel_opts\u001b[0m\u001b[1;33m=\u001b[0m\u001b[0mopts\u001b[0m\u001b[1;33m.\u001b[0m\u001b[0mLabelOpts\u001b[0m\u001b[1;33m(\u001b[0m\u001b[0mis_show\u001b[0m\u001b[1;33m=\u001b[0m\u001b[1;32mFalse\u001b[0m\u001b[1;33m)\u001b[0m\u001b[1;33m)\u001b[0m  \u001b[1;31m# 不展示数据点label\u001b[0m\u001b[1;33m\u001b[0m\u001b[1;33m\u001b[0m\u001b[0m\n\u001b[0;32m     11\u001b[0m geo.set_global_opts(\n",
      "\u001b[1;32mD:\\Softwares\\Anaconda\\lib\\site-packages\\pyecharts\\charts\\basic_charts\\geo.py\u001b[0m in \u001b[0;36madd\u001b[1;34m(self, series_name, data_pair, type_, is_selected, symbol, symbol_size, blur_size, point_size, color, is_polyline, is_large, large_threshold, progressive, progressive_threshold, label_opts, effect_opts, linestyle_opts, tooltip_opts, itemstyle_opts, render_item, encode)\u001b[0m\n\u001b[0;32m     61\u001b[0m     ):\n\u001b[0;32m     62\u001b[0m         \u001b[0mself\u001b[0m\u001b[1;33m.\u001b[0m\u001b[0m_zlevel\u001b[0m \u001b[1;33m+=\u001b[0m \u001b[1;36m1\u001b[0m\u001b[1;33m\u001b[0m\u001b[1;33m\u001b[0m\u001b[0m\n\u001b[1;32m---> 63\u001b[1;33m         \u001b[0mdata\u001b[0m \u001b[1;33m=\u001b[0m \u001b[0mself\u001b[0m\u001b[1;33m.\u001b[0m\u001b[0m_feed_data\u001b[0m\u001b[1;33m(\u001b[0m\u001b[0mdata_pair\u001b[0m\u001b[1;33m,\u001b[0m \u001b[0mtype_\u001b[0m\u001b[1;33m)\u001b[0m\u001b[1;33m\u001b[0m\u001b[1;33m\u001b[0m\u001b[0m\n\u001b[0m\u001b[0;32m     64\u001b[0m \u001b[1;33m\u001b[0m\u001b[0m\n\u001b[0;32m     65\u001b[0m         \u001b[0mself\u001b[0m\u001b[1;33m.\u001b[0m\u001b[0m_append_color\u001b[0m\u001b[1;33m(\u001b[0m\u001b[0mcolor\u001b[0m\u001b[1;33m)\u001b[0m\u001b[1;33m\u001b[0m\u001b[1;33m\u001b[0m\u001b[0m\n",
      "\u001b[1;32mD:\\Softwares\\Anaconda\\lib\\site-packages\\pyecharts\\charts\\basic_charts\\geo.py\u001b[0m in \u001b[0;36m_feed_data\u001b[1;34m(self, data_pair, type_)\u001b[0m\n\u001b[0;32m    177\u001b[0m             \u001b[1;32mexcept\u001b[0m \u001b[0mTypeError\u001b[0m \u001b[1;32mas\u001b[0m \u001b[0merr\u001b[0m\u001b[1;33m:\u001b[0m\u001b[1;33m\u001b[0m\u001b[1;33m\u001b[0m\u001b[0m\n\u001b[0;32m    178\u001b[0m                 \u001b[1;32mif\u001b[0m \u001b[0mself\u001b[0m\u001b[1;33m.\u001b[0m\u001b[0m_is_ignore_nonexistent_coord\u001b[0m \u001b[1;32mis\u001b[0m \u001b[1;32mnot\u001b[0m \u001b[1;32mTrue\u001b[0m\u001b[1;33m:\u001b[0m\u001b[1;33m\u001b[0m\u001b[1;33m\u001b[0m\u001b[0m\n\u001b[1;32m--> 179\u001b[1;33m                     \u001b[1;32mraise\u001b[0m \u001b[0mNonexistentCoordinatesException\u001b[0m\u001b[1;33m(\u001b[0m\u001b[0merr\u001b[0m\u001b[1;33m,\u001b[0m \u001b[1;33m(\u001b[0m\u001b[0mn\u001b[0m\u001b[1;33m,\u001b[0m \u001b[0mv\u001b[0m\u001b[1;33m)\u001b[0m\u001b[1;33m)\u001b[0m\u001b[1;33m\u001b[0m\u001b[1;33m\u001b[0m\u001b[0m\n\u001b[0m\u001b[0;32m    180\u001b[0m         \u001b[1;32mreturn\u001b[0m \u001b[0mresult\u001b[0m\u001b[1;33m\u001b[0m\u001b[1;33m\u001b[0m\u001b[0m\n\u001b[0;32m    181\u001b[0m \u001b[1;33m\u001b[0m\u001b[0m\n",
      "\u001b[1;31mNonexistentCoordinatesException\u001b[0m: 当前地点: ('嘉定区11号线城北路站D地块工地', 0.5) 坐标不存在, 错误原因: cannot unpack non-iterable NoneType object"
     ]
    }
   ],
   "source": [
    "# 绘制散点图\n",
    "\n",
    "from pyecharts import options as opts\n",
    "from pyecharts.charts import Geo\n",
    "\n",
    "\n",
    "geo = Geo()\n",
    "geo.add_schema(maptype=\"上海\")  # 使用上海地图\n",
    "geo.add(\"病例\", [list(z) for z in zip(test_dataset[\"address\"],test_dataset[\"confidence\"])])  # 暂且将数据点的value用数据集里的confidence代替；只影响点的颜色\n",
    "geo.set_series_opts(label_opts=opts.LabelOpts(is_show=False))  # 不展示数据点label\n",
    "geo.set_global_opts(\n",
    "    visualmap_opts=opts.VisualMapOpts(),\n",
    "    title_opts=opts.TitleOpts(title=\"上海疫情散点图\") \n",
    "    )\n",
    "geo.render(\"./show_result/上海疫情散点图.html\")"
   ]
  }
 ],
 "metadata": {
  "kernelspec": {
   "display_name": "Python 3 (ipykernel)",
   "language": "python",
   "name": "python3"
  },
  "language_info": {
   "codemirror_mode": {
    "name": "ipython",
    "version": 3
   },
   "file_extension": ".py",
   "mimetype": "text/x-python",
   "name": "python",
   "nbconvert_exporter": "python",
   "pygments_lexer": "ipython3",
   "version": "3.9.7"
  }
 },
 "nbformat": 4,
 "nbformat_minor": 5
}
