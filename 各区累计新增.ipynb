{
 "cells": [
  {
   "cell_type": "markdown",
   "metadata": {},
   "source": [
    "上海各个区累计新增（确诊、⽆症状、死亡病例、康复）折线统计图\n",
    "数据集：daily_report_by_address.csv, estate_info_pub.csv\n",
    "相对路径：CaseInfo\\daily_report_by_address.csv\n",
    "         CaseInfo\\estate_info_pub.csv    \n",
    "\n",
    "需要合并两个数据集以找到对应地址，并且合并统计各个区的数据\n"
   ]
  }
 ],
 "metadata": {
  "language_info": {
   "name": "python"
  },
  "orig_nbformat": 4
 },
 "nbformat": 4,
 "nbformat_minor": 2
}
