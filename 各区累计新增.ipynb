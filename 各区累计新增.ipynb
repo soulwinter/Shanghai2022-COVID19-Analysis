{
 "cells": [
  {
   "cell_type": "markdown",
   "metadata": {},
   "source": [
    "上海各个区累计新增（确诊、⽆症状、死亡病例、康复）折线统计图\n",
    "数据集：daily_report_by_address.csv, estate_info_pub.csv\n",
    "相对路径：CaseInfo\\daily_report_by_address.csv\n",
    "         CaseInfo\\estate_info_pub.csv    \n",
    "\n",
    "需要合并两个数据集以找到对应地址，并且合并统计各个区的数据\n"
   ]
  }
 ],
 "metadata": {
  "kernelspec": {
   "display_name": "Python 3",
   "language": "python",
   "name": "python3"
  },
  "language_info": {
   "codemirror_mode": {
    "name": "ipython",
    "version": 3
   },
   "file_extension": ".py",
   "mimetype": "text/x-python",
   "name": "python",
   "nbconvert_exporter": "python",
   "pygments_lexer": "ipython3",
   "version": "3.8.5"
  }
 },
 "nbformat": 4,
 "nbformat_minor": 2
}
